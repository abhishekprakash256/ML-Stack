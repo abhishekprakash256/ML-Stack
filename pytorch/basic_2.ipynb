{
 "cells": [
  {
   "cell_type": "markdown",
   "metadata": {},
   "source": [
    "## Transforms \n",
    "\n",
    "- Transform can be applied to the grayscale, cropping, Pad \n",
    "- Random Rotation\n",
    "- Resize Rescale\n",
    "\n",
    "### Transforms on Tensor \n",
    "- Linaer Transformation , Normalize, RandomErasing\n",
    "\n",
    "### Conversion\n",
    "- ToPilImage : from tensor to ndarray \n",
    "- ToTensor:  From numpy.ndarray or PILImage\n",
    "\n",
    "### Generic\n",
    "- write own class\n",
    "- composed used to make custom transpose one after another\n",
    "  \n"
   ]
  },
  {
   "cell_type": "code",
   "execution_count": 2,
   "metadata": {},
   "outputs": [],
   "source": [
    "import torch\n",
    "import torchvision\n",
    "from torch.utils.data import Dataset\n",
    "import numpy as np"
   ]
  },
  {
   "cell_type": "markdown",
   "metadata": {},
   "source": [
    "##### Make the dataset"
   ]
  },
  {
   "cell_type": "code",
   "execution_count": 7,
   "metadata": {},
   "outputs": [],
   "source": [
    "class WineDataset(Dataset):\n",
    "    def __init__(self,transform= None):\n",
    "        xy = np.loadtxt('wine.csv', delimiter=\",\" , dtype= np.float32, skiprows= 1)\n",
    "\n",
    "        self.x = xy[:,1:]\n",
    "        self.y = xy[:,[0]]\n",
    "        self.transform = transform\n",
    "\n",
    "\n",
    "    def __getitem__(self,index):\n",
    "        sample = self.x[index], self.y[index]\n",
    "\n",
    "        if self.transform:\n",
    "            sample = self.transform(sample)\n",
    "\n",
    "    def __len__(self):\n",
    "        return self.n_samples\n",
    "\n"
   ]
  },
  {
   "cell_type": "code",
   "execution_count": 9,
   "metadata": {},
   "outputs": [],
   "source": [
    "#create a transfrom class\n",
    "\n",
    "class ToTensor:\n",
    "    def __call__(self,sample):\n",
    "        inputs , labels = sample\n",
    "        return torch.from_numpy(inputs) , torch.from_numpy(targets)"
   ]
  },
  {
   "cell_type": "code",
   "execution_count": 10,
   "metadata": {},
   "outputs": [],
   "source": [
    "dataset = WineDataset(transform= ToTensor())"
   ]
  },
  {
   "cell_type": "code",
   "execution_count": null,
   "metadata": {},
   "outputs": [],
   "source": []
  }
 ],
 "metadata": {
  "interpreter": {
   "hash": "a9277649a74e8faa8be12cbeb58385da5eb2caa0505776957b10bd3c68ac62ba"
  },
  "kernelspec": {
   "display_name": "Python 3.8.5 64-bit ('base': conda)",
   "language": "python",
   "name": "python3"
  },
  "language_info": {
   "codemirror_mode": {
    "name": "ipython",
    "version": 3
   },
   "file_extension": ".py",
   "mimetype": "text/x-python",
   "name": "python",
   "nbconvert_exporter": "python",
   "pygments_lexer": "ipython3",
   "version": "3.8.5"
  },
  "orig_nbformat": 4
 },
 "nbformat": 4,
 "nbformat_minor": 2
}
