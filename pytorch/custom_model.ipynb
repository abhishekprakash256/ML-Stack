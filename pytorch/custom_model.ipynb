{
 "cells": [
  {
   "cell_type": "code",
   "execution_count": 1,
   "metadata": {},
   "outputs": [],
   "source": [
    "#imports\n",
    "import pandas as pd\n",
    "import torch\n",
    "from torch.utils.data import Dataset, DataLoader\n",
    "\n"
   ]
  },
  {
   "cell_type": "code",
   "execution_count": 12,
   "metadata": {},
   "outputs": [],
   "source": [
    "#creating the custom dataset\n",
    "class CustomTextDataset(Dataset):\n",
    "    def __init__(self,txt,labels):\n",
    "        self.labels = labels\n",
    "        self.text = text\n",
    "\n",
    "    def __len__(self):\n",
    "        return len(self.labels)\n",
    "\n",
    "    def __getitem__(self,idx):\n",
    "        label = self.labels[idx]\n",
    "        text = self.text[idx]\n",
    "        sample = {\"Text\":text , \"Class\":label}\n",
    "        return sample \n"
   ]
  },
  {
   "cell_type": "code",
   "execution_count": 15,
   "metadata": {},
   "outputs": [],
   "source": [
    "#making the custom data set \n",
    "text = ['Happy', 'Amazing','Sad', 'Unhappy', 'Glum']\n",
    "labels = ['Postive', 'Postive','Negative','Negative','Negative']\n",
    "\n",
    "\n",
    "#creating the pandas frame\n",
    "text_labels_df =  pd.DataFrame({'Text':text , 'Labels': labels})\n"
   ]
  },
  {
   "cell_type": "code",
   "execution_count": 16,
   "metadata": {},
   "outputs": [],
   "source": [
    "#define the data set obeject \n",
    "TD = CustomTextDataset(text_labels_df['Text'],text_labels_df['Labels'])  #non essential step but pandas use this to create a data processing steps"
   ]
  },
  {
   "cell_type": "code",
   "execution_count": 17,
   "metadata": {},
   "outputs": [
    {
     "name": "stdout",
     "output_type": "stream",
     "text": [
      "\n",
      "First iteration of data set:  {'Text': 'Happy', 'Class': 'Postive'} \n",
      "\n",
      "Length of data set:  5 \n",
      "\n",
      "Entire data set:  [{'Text': ['Happy'], 'Class': ['Postive']}, {'Text': ['Amazing'], 'Class': ['Postive']}, {'Text': ['Sad'], 'Class': ['Negative']}, {'Text': ['Unhappy'], 'Class': ['Negative']}, {'Text': ['Glum'], 'Class': ['Negative']}] \n",
      "\n"
     ]
    }
   ],
   "source": [
    "# Display text and label.\n",
    "print('\\nFirst iteration of data set: ', next(iter(TD)), '\\n')\n",
    "# Print how many items are in the data set\n",
    "print('Length of data set: ', len(TD), '\\n')\n",
    "# Print entire data set\n",
    "print('Entire data set: ', list(DataLoader(TD)), '\\n')"
   ]
  },
  {
   "cell_type": "code",
   "execution_count": 18,
   "metadata": {},
   "outputs": [],
   "source": [
    "DL_DS = DataLoader(TD, batch_size=2, shuffle=True)"
   ]
  },
  {
   "cell_type": "code",
   "execution_count": 20,
   "metadata": {},
   "outputs": [
    {
     "name": "stdout",
     "output_type": "stream",
     "text": [
      "0 Text data:  ['Amazing', 'Glum']\n",
      "0 Class data:  ['Postive', 'Negative'] \n",
      "\n",
      "1 Text data:  ['Sad', 'Happy']\n",
      "1 Class data:  ['Negative', 'Postive'] \n",
      "\n",
      "2 Text data:  ['Unhappy']\n",
      "2 Class data:  ['Negative'] \n",
      "\n"
     ]
    }
   ],
   "source": [
    "#iteration of the data sets\n",
    "for (idx, batch) in enumerate(DL_DS):\n",
    "    # Print the 'text' data of the batch\n",
    "    print(idx, 'Text data: ', batch['Text'])\n",
    "    # Print the 'class' data of batch\n",
    "    print(idx, 'Class data: ', batch['Class'], '\\n')"
   ]
  },
  {
   "cell_type": "code",
   "execution_count": null,
   "metadata": {},
   "outputs": [],
   "source": []
  },
  {
   "cell_type": "code",
   "execution_count": null,
   "metadata": {},
   "outputs": [],
   "source": []
  }
 ],
 "metadata": {
  "interpreter": {
   "hash": "31f2aee4e71d21fbe5cf8b01ff0e069b9275f58929596ceb00d14d90e3e16cd6"
  },
  "kernelspec": {
   "display_name": "Python 3.9.5 64-bit",
   "language": "python",
   "name": "python3"
  },
  "language_info": {
   "codemirror_mode": {
    "name": "ipython",
    "version": 3
   },
   "file_extension": ".py",
   "mimetype": "text/x-python",
   "name": "python",
   "nbconvert_exporter": "python",
   "pygments_lexer": "ipython3",
   "version": "3.8.5"
  },
  "orig_nbformat": 4
 },
 "nbformat": 4,
 "nbformat_minor": 2
}
