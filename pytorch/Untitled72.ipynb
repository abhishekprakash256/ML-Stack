{
  "nbformat": 4,
  "nbformat_minor": 0,
  "metadata": {
    "colab": {
      "name": "Untitled72.ipynb",
      "provenance": [],
      "collapsed_sections": []
    },
    "kernelspec": {
      "name": "python3",
      "display_name": "Python 3"
    },
    "language_info": {
      "name": "python"
    }
  },
  "cells": [
    {
      "cell_type": "code",
      "metadata": {
        "colab": {
          "base_uri": "https://localhost:8080/"
        },
        "id": "U60EIrJ_Bti5",
        "outputId": "f14da84d-e980-4302-d582-d676b4ce70a7"
      },
      "source": [
        "#interplotaion\n",
        "import torch\n",
        "import torch.nn.functional as F\n",
        "import matplotlib.pyplot as plt\n",
        "\n",
        "x = torch.randint( 0,3 , (2,2))\n",
        "\n",
        "y = x.view(1,2,2)\n",
        "y = y.to(torch.double)\n",
        "print(\"tensor\")\n",
        "print(y)\n",
        "\n",
        "out = F.interpolate(y, size = 4, mode= 'linear')\n",
        "\n",
        "z = y.view(1,1,2,2)\n",
        "\n",
        "out_2 = F.interpolate(z , size= 4, mode= 'bilinear')\n",
        "\n",
        "out_3 = F.interpolate(z , size =4, mode = \"bicubic\")\n",
        "\n",
        "out_4 = F.interpolate(z, size= 4, mode = \"nearest\" )\n",
        "\n",
        "#--------------------------------------------------------------#\n",
        "print(\"linear\")\n",
        "print(out)\n",
        "print(\"bilinear\")\n",
        "print(out_2)\n",
        "print(\"bicubic\")\n",
        "print(out_3)\n",
        "print(\"nearest\")\n",
        "print(out_4)"
      ],
      "execution_count": 58,
      "outputs": [
        {
          "output_type": "stream",
          "text": [
            "tensor\n",
            "tensor([[[2., 1.],\n",
            "         [1., 1.]]], dtype=torch.float64)\n",
            "linear\n",
            "tensor([[[2.0000, 1.7500, 1.2500, 1.0000],\n",
            "         [1.0000, 1.0000, 1.0000, 1.0000]]], dtype=torch.float64)\n",
            "bilinear\n",
            "tensor([[[[2.0000, 1.7500, 1.2500, 1.0000],\n",
            "          [1.7500, 1.5625, 1.1875, 1.0000],\n",
            "          [1.2500, 1.1875, 1.0625, 1.0000],\n",
            "          [1.0000, 1.0000, 1.0000, 1.0000]]]], dtype=torch.float64)\n",
            "bicubic\n",
            "tensor([[[[2.2221, 1.8550, 1.2505, 0.8834],\n",
            "          [1.8550, 1.5982, 1.1752, 0.9184],\n",
            "          [1.2505, 1.1752, 1.0513, 0.9761],\n",
            "          [0.8834, 0.9184, 0.9761, 1.0111]]]], dtype=torch.float64)\n",
            "nearest\n",
            "tensor([[[[2., 2., 1., 1.],\n",
            "          [2., 2., 1., 1.],\n",
            "          [1., 1., 1., 1.],\n",
            "          [1., 1., 1., 1.]]]], dtype=torch.float64)\n"
          ],
          "name": "stdout"
        },
        {
          "output_type": "stream",
          "text": [
            "/usr/local/lib/python3.7/dist-packages/torch/nn/functional.py:3613: UserWarning: Default upsampling behavior when mode=linear is changed to align_corners=False since 0.4.0. Please specify align_corners=True if the old behavior is desired. See the documentation of nn.Upsample for details.\n",
            "  \"See the documentation of nn.Upsample for details.\".format(mode)\n",
            "/usr/local/lib/python3.7/dist-packages/torch/nn/functional.py:3613: UserWarning: Default upsampling behavior when mode=bilinear is changed to align_corners=False since 0.4.0. Please specify align_corners=True if the old behavior is desired. See the documentation of nn.Upsample for details.\n",
            "  \"See the documentation of nn.Upsample for details.\".format(mode)\n",
            "/usr/local/lib/python3.7/dist-packages/torch/nn/functional.py:3613: UserWarning: Default upsampling behavior when mode=bicubic is changed to align_corners=False since 0.4.0. Please specify align_corners=True if the old behavior is desired. See the documentation of nn.Upsample for details.\n",
            "  \"See the documentation of nn.Upsample for details.\".format(mode)\n"
          ],
          "name": "stderr"
        }
      ]
    }
  ]
}