{
  "nbformat": 4,
  "nbformat_minor": 0,
  "metadata": {
    "colab": {
      "name": "Untitled71.ipynb",
      "provenance": [],
      "collapsed_sections": []
    },
    "kernelspec": {
      "name": "python3",
      "display_name": "Python 3"
    },
    "language_info": {
      "name": "python"
    }
  },
  "cells": [
    {
      "cell_type": "code",
      "metadata": {
        "colab": {
          "base_uri": "https://localhost:8080/"
        },
        "id": "p3Y9nZbxylPy",
        "outputId": "bff3f567-f878-40e1-f9a8-fab54f251549"
      },
      "source": [
        "import torch\n",
        "import torch.nn.functional as F\n",
        "import torch.nn as nn\n",
        "x = torch.arange(1, 5, dtype=torch.float32).view(1,1, 2, 2)\n",
        "m = nn.Upsample(scale_factor=2, mode='nearest')\n",
        "print(x)"
      ],
      "execution_count": 1,
      "outputs": [
        {
          "output_type": "stream",
          "text": [
            "tensor([[[[1., 2.],\n",
            "          [3., 4.]]]])\n"
          ],
          "name": "stdout"
        }
      ]
    },
    {
      "cell_type": "code",
      "metadata": {
        "id": "RuzqWuH3Oi1z"
      },
      "source": [
        ""
      ],
      "execution_count": null,
      "outputs": []
    },
    {
      "cell_type": "code",
      "metadata": {
        "colab": {
          "base_uri": "https://localhost:8080/"
        },
        "id": "fgoWzQm-zFTf",
        "outputId": "a8ab6c9e-75e6-4056-f4cf-38453d021c35"
      },
      "source": [
        "m(x) #deafault nearest"
      ],
      "execution_count": 2,
      "outputs": [
        {
          "output_type": "execute_result",
          "data": {
            "text/plain": [
              "tensor([[[[1., 1., 2., 2.],\n",
              "          [1., 1., 2., 2.],\n",
              "          [3., 3., 4., 4.],\n",
              "          [3., 3., 4., 4.]]]])"
            ]
          },
          "metadata": {
            "tags": []
          },
          "execution_count": 2
        }
      ]
    },
    {
      "cell_type": "code",
      "metadata": {
        "colab": {
          "base_uri": "https://localhost:8080/"
        },
        "id": "8W9Civ-VzR6P",
        "outputId": "c56731d4-b77e-4b8b-83b4-e68fdb634f69"
      },
      "source": [
        "m = nn.Upsample(scale_factor=2, mode='bilinear') \n",
        "m(x)"
      ],
      "execution_count": 3,
      "outputs": [
        {
          "output_type": "stream",
          "text": [
            "/usr/local/lib/python3.7/dist-packages/torch/nn/functional.py:3613: UserWarning: Default upsampling behavior when mode=bilinear is changed to align_corners=False since 0.4.0. Please specify align_corners=True if the old behavior is desired. See the documentation of nn.Upsample for details.\n",
            "  \"See the documentation of nn.Upsample for details.\".format(mode)\n"
          ],
          "name": "stderr"
        },
        {
          "output_type": "execute_result",
          "data": {
            "text/plain": [
              "tensor([[[[1.0000, 1.2500, 1.7500, 2.0000],\n",
              "          [1.5000, 1.7500, 2.2500, 2.5000],\n",
              "          [2.5000, 2.7500, 3.2500, 3.5000],\n",
              "          [3.0000, 3.2500, 3.7500, 4.0000]]]])"
            ]
          },
          "metadata": {
            "tags": []
          },
          "execution_count": 3
        }
      ]
    },
    {
      "cell_type": "code",
      "metadata": {
        "colab": {
          "base_uri": "https://localhost:8080/"
        },
        "id": "8sAihpfszXzw",
        "outputId": "67be3786-3282-4250-df24-c88987e434e4"
      },
      "source": [
        "m = nn.Upsample(scale_factor=2, mode='bilinear', align_corners=True)\n",
        "m(x)"
      ],
      "execution_count": 4,
      "outputs": [
        {
          "output_type": "execute_result",
          "data": {
            "text/plain": [
              "tensor([[[[1.0000, 1.3333, 1.6667, 2.0000],\n",
              "          [1.6667, 2.0000, 2.3333, 2.6667],\n",
              "          [2.3333, 2.6667, 3.0000, 3.3333],\n",
              "          [3.0000, 3.3333, 3.6667, 4.0000]]]])"
            ]
          },
          "metadata": {
            "tags": []
          },
          "execution_count": 4
        }
      ]
    },
    {
      "cell_type": "code",
      "metadata": {
        "colab": {
          "base_uri": "https://localhost:8080/"
        },
        "id": "3spF9G1POmnd",
        "outputId": "44cfac6a-49ff-4aef-f215-a57645a4b53d"
      },
      "source": [
        "x = x.view(1,2,2)\n",
        "\n",
        "m = nn.Upsample(scale_factor = 2, mode = 'linear' )\n",
        "m(x)"
      ],
      "execution_count": 12,
      "outputs": [
        {
          "output_type": "stream",
          "text": [
            "/usr/local/lib/python3.7/dist-packages/torch/nn/functional.py:3613: UserWarning: Default upsampling behavior when mode=linear is changed to align_corners=False since 0.4.0. Please specify align_corners=True if the old behavior is desired. See the documentation of nn.Upsample for details.\n",
            "  \"See the documentation of nn.Upsample for details.\".format(mode)\n"
          ],
          "name": "stderr"
        },
        {
          "output_type": "execute_result",
          "data": {
            "text/plain": [
              "tensor([[[1.0000, 1.2500, 1.7500, 2.0000],\n",
              "         [3.0000, 3.2500, 3.7500, 4.0000]]])"
            ]
          },
          "metadata": {
            "tags": []
          },
          "execution_count": 12
        }
      ]
    },
    {
      "cell_type": "code",
      "metadata": {
        "colab": {
          "base_uri": "https://localhost:8080/"
        },
        "id": "1jXzDVBURVKN",
        "outputId": "c8b2d08a-f9e9-4199-dbf2-60c3ab002ce1"
      },
      "source": [
        "y = x.view(1,1,2,2)\n",
        "print(y.shape)\n",
        "m = nn.Upsample(scale_factor = 2, mode = 'bicubic' )\n",
        "m(y)"
      ],
      "execution_count": 24,
      "outputs": [
        {
          "output_type": "stream",
          "text": [
            "torch.Size([1, 1, 2, 2])\n"
          ],
          "name": "stdout"
        },
        {
          "output_type": "stream",
          "text": [
            "/usr/local/lib/python3.7/dist-packages/torch/nn/functional.py:3613: UserWarning: Default upsampling behavior when mode=bicubic is changed to align_corners=False since 0.4.0. Please specify align_corners=True if the old behavior is desired. See the documentation of nn.Upsample for details.\n",
            "  \"See the documentation of nn.Upsample for details.\".format(mode)\n"
          ],
          "name": "stderr"
        },
        {
          "output_type": "execute_result",
          "data": {
            "text/plain": [
              "tensor([[[[0.6836, 1.0156, 1.5625, 1.8945],\n",
              "          [1.3477, 1.6797, 2.2266, 2.5586],\n",
              "          [2.4414, 2.7734, 3.3203, 3.6523],\n",
              "          [3.1055, 3.4375, 3.9844, 4.3164]]]])"
            ]
          },
          "metadata": {
            "tags": []
          },
          "execution_count": 24
        }
      ]
    },
    {
      "cell_type": "code",
      "metadata": {
        "id": "hkc9S2w-SoAm"
      },
      "source": [
        ""
      ],
      "execution_count": null,
      "outputs": []
    }
  ]
}