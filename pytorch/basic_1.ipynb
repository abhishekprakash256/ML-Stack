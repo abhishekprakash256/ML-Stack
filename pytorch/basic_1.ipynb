{
 "cells": [
  {
   "cell_type": "markdown",
   "metadata": {},
   "source": [
    "## Second Pytorch notebook"
   ]
  },
  {
   "cell_type": "markdown",
   "metadata": {},
   "source": [
    "### Dataset and Dataloader class"
   ]
  },
  {
   "cell_type": "markdown",
   "metadata": {},
   "source": [
    "#### Some terminology \n",
    "- epoch 1 - forward and the backward pass to all the training samples\n",
    "- batch_size - no. of training samples in forward and backward pass\n",
    "- number of iteration - number of passess, each using [batch size ] number of sample \n",
    "- 100 samples , batch_size = 20 - 5 iteration for 1 epoch "
   ]
  },
  {
   "cell_type": "code",
   "execution_count": 3,
   "metadata": {},
   "outputs": [],
   "source": [
    "import torch\n",
    "import torchvision \n",
    "from torch.utils.data import Dataset, DataLoader\n",
    "import math\n",
    "import numpy as np"
   ]
  },
  {
   "cell_type": "markdown",
   "metadata": {},
   "source": [
    "### Import the custom datset"
   ]
  },
  {
   "cell_type": "code",
   "execution_count": 4,
   "metadata": {},
   "outputs": [],
   "source": [
    "class winedataset(Dataset):\n",
    "\n",
    "    def __init__(self):\n",
    "        #data loader \n",
    "        xy = np.loadtxt('wine.csv', delimiter=',' , dtype=np.float32, skiprows= 1)\n",
    "        self.x = torch.from_numpy(xy[:,1:])\n",
    "        self.y = torch.from_numpy(xy[:,[0]])  #n_samples\n",
    "        self.n_samples = xy.shape[0]\n",
    "\n",
    "    def __getitem__(self,index):\n",
    "\n",
    "        return self.x[index], self.y[index]\n",
    "    \n",
    "    def __len__(self):\n",
    "\n",
    "        return self.n_samples"
   ]
  },
  {
   "cell_type": "code",
   "execution_count": 7,
   "metadata": {},
   "outputs": [
    {
     "name": "stdout",
     "output_type": "stream",
     "text": [
      "tensor([1.4230e+01, 1.7100e+00, 2.4300e+00, 1.5600e+01, 1.2700e+02, 2.8000e+00,\n",
      "        3.0600e+00, 2.8000e-01, 2.2900e+00, 5.6400e+00, 1.0400e+00, 3.9200e+00,\n",
      "        1.0650e+03]) tensor([1.])\n"
     ]
    }
   ],
   "source": [
    "#make the dataset instance \n",
    "dataset = winedataset()\n",
    "\n",
    "first_data = dataset[0]\n",
    "\n",
    "features , labels = first_data\n",
    "\n",
    "print(features, labels)"
   ]
  },
  {
   "cell_type": "code",
   "execution_count": 8,
   "metadata": {},
   "outputs": [],
   "source": [
    "#data loader class\n",
    "\n",
    "dataloader = DataLoader(dataset= dataset , batch_size= 4 , shuffle = True)"
   ]
  },
  {
   "cell_type": "code",
   "execution_count": 10,
   "metadata": {},
   "outputs": [],
   "source": [
    "#dataiteration \n",
    "dataiter = iter(dataloader)\n",
    "data = dataiter.next()\n",
    "features, labels = data"
   ]
  },
  {
   "cell_type": "code",
   "execution_count": 11,
   "metadata": {},
   "outputs": [
    {
     "name": "stdout",
     "output_type": "stream",
     "text": [
      "178 45\n"
     ]
    }
   ],
   "source": [
    "#training loop \n",
    "\n",
    "num_epochs = 2\n",
    "\n",
    "total_samples = len(dataset)\n",
    "\n",
    "n_itertaions = math.ceil(total_samples/4)\n",
    "\n",
    "print(total_samples,n_itertaions)"
   ]
  },
  {
   "cell_type": "code",
   "execution_count": 12,
   "metadata": {},
   "outputs": [
    {
     "name": "stdout",
     "output_type": "stream",
     "text": [
      "torch.Size([4, 13])\n",
      "torch.Size([4, 13])\n",
      "torch.Size([4, 13])\n",
      "torch.Size([4, 13])\n",
      "torch.Size([4, 13])\n",
      "torch.Size([4, 13])\n",
      "torch.Size([4, 13])\n",
      "torch.Size([4, 13])\n",
      "torch.Size([2, 13])\n",
      "torch.Size([4, 13])\n",
      "torch.Size([4, 13])\n",
      "torch.Size([4, 13])\n",
      "torch.Size([4, 13])\n",
      "torch.Size([4, 13])\n",
      "torch.Size([4, 13])\n",
      "torch.Size([4, 13])\n",
      "torch.Size([4, 13])\n",
      "torch.Size([2, 13])\n"
     ]
    }
   ],
   "source": [
    "# loop now \n",
    "for epoch in range(num_epochs):\n",
    "    for i, (input,labels) in enumerate(dataloader):\n",
    "\n",
    "        if (i+1) % 5 == 0 :\n",
    "            print(input.shape)"
   ]
  },
  {
   "cell_type": "code",
   "execution_count": null,
   "metadata": {},
   "outputs": [],
   "source": []
  }
 ],
 "metadata": {
  "interpreter": {
   "hash": "a9277649a74e8faa8be12cbeb58385da5eb2caa0505776957b10bd3c68ac62ba"
  },
  "kernelspec": {
   "display_name": "Python 3.8.5 64-bit ('base': conda)",
   "language": "python",
   "name": "python3"
  },
  "language_info": {
   "codemirror_mode": {
    "name": "ipython",
    "version": 3
   },
   "file_extension": ".py",
   "mimetype": "text/x-python",
   "name": "python",
   "nbconvert_exporter": "python",
   "pygments_lexer": "ipython3",
   "version": "3.8.5"
  },
  "orig_nbformat": 4
 },
 "nbformat": 4,
 "nbformat_minor": 2
}
