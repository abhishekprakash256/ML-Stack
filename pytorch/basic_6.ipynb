{
 "cells": [
  {
   "cell_type": "markdown",
   "metadata": {},
   "source": [
    "## Transfer Learning \n",
    "\n",
    "### Steps \n",
    "- We add a new layer to the model \n",
    "- we modify the last layer of the model\n",
    "- Train it for the few iterations\n",
    "- Last layers are trained mainly "
   ]
  },
  {
   "cell_type": "markdown",
   "metadata": {},
   "source": [
    "### Pytorch saving the model\n",
    "### It requires 3 methods - \n",
    "- torch.save(arg, PATH)  (lazy method)\n",
    "- torch.load(PATH)  after that use model.eval()\n",
    "- \".pth\" extension is common for saving the model"
   ]
  },
  {
   "cell_type": "markdown",
   "metadata": {},
   "source": [
    "### Another method to save the model \n",
    "- torch.save(model.state_dict(),PATH)\n",
    "- load_state_dict(torch.load(PATH))"
   ]
  }
 ],
 "metadata": {
  "language_info": {
   "name": "python"
  },
  "orig_nbformat": 4
 },
 "nbformat": 4,
 "nbformat_minor": 2
}
