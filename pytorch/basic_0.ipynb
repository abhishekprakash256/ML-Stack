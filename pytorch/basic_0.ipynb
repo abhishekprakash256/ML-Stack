{
 "cells": [
  {
   "cell_type": "markdown",
   "metadata": {},
   "source": [
    "### The making of an empty tensor in pytorch "
   ]
  },
  {
   "cell_type": "code",
   "execution_count": 26,
   "metadata": {},
   "outputs": [],
   "source": [
    "import torch \n",
    "\n",
    "x = torch.empty(4,4)"
   ]
  },
  {
   "cell_type": "code",
   "execution_count": 27,
   "metadata": {},
   "outputs": [],
   "source": [
    "x_0 = torch.zeros(2,2)\n",
    "x_1 = torch.ones(1,1)\n",
    "x_2 = torch.rand(3,3)\n",
    "x_3 = torch.randn(4,4 , dtype = torch.float) #sepcify the data type as well \n",
    "x_4 = torch.tensor([1,2,3,5])\n"
   ]
  },
  {
   "cell_type": "markdown",
   "metadata": {},
   "source": [
    "## Arthimetic Operation \n",
    "\n",
    "- every function that has a _ will do inplace operation\n"
   ]
  },
  {
   "cell_type": "code",
   "execution_count": 31,
   "metadata": {},
   "outputs": [],
   "source": [
    "# element wise operations \n",
    "\n",
    "x_5 = torch.rand(3,3)\n",
    "\n",
    "x_6 = torch.rand(3,3)\n",
    "\n",
    "x_5 + x_6\n",
    "\n",
    "add = torch.add(x_5,x_6) #same element wise operation\n",
    "\n",
    "sub = torch.sub(x_5, x_6) #same element wise operation sub_"
   ]
  },
  {
   "cell_type": "markdown",
   "metadata": {},
   "source": [
    "### Indexing the tensor "
   ]
  },
  {
   "cell_type": "code",
   "execution_count": 37,
   "metadata": {},
   "outputs": [
    {
     "name": "stdout",
     "output_type": "stream",
     "text": [
      "tensor([[0.8222, 0.5287, 0.5656],\n",
      "        [0.6511, 0.8807, 0.2474],\n",
      "        [0.0549, 0.1116, 0.9707],\n",
      "        [0.1621, 0.8920, 0.2312]])\n",
      "tensor([0.8222, 0.6511, 0.0549, 0.1621])\n",
      "tensor([[0.6511, 0.8807, 0.2474],\n",
      "        [0.0549, 0.1116, 0.9707],\n",
      "        [0.1621, 0.8920, 0.2312]])\n"
     ]
    }
   ],
   "source": [
    "x_7 = torch.rand(4,3)\n",
    "\n",
    "print(x_7)\n",
    "print(x_7[:,0])  #first column \n",
    "\n",
    "print(x_7[1:,]) # first row and all the below"
   ]
  },
  {
   "cell_type": "markdown",
   "metadata": {},
   "source": [
    "### Reshpae the tensor "
   ]
  },
  {
   "cell_type": "code",
   "execution_count": 41,
   "metadata": {},
   "outputs": [
    {
     "name": "stdout",
     "output_type": "stream",
     "text": [
      "tensor([[0.9824, 0.2287, 0.7911, 0.3397, 0.1600, 0.3239, 0.3814, 0.3864],\n",
      "        [0.2595, 0.5018, 0.5136, 0.6512, 0.0252, 0.7441, 0.7329, 0.3545]])\n"
     ]
    }
   ],
   "source": [
    "x_8 = torch.rand(4,4)\n",
    "x_9 = x_8.view(-1,8)  #will automiticall do the reshape\n",
    "\n",
    "print(x_9)"
   ]
  },
  {
   "cell_type": "markdown",
   "metadata": {},
   "source": [
    "### Making the numpy array "
   ]
  },
  {
   "cell_type": "code",
   "execution_count": 46,
   "metadata": {},
   "outputs": [],
   "source": [
    "x_10 = x_9.numpy()\n",
    "\n",
    "x_11 = torch.from_numpy(x_10)  #again type cast to torch"
   ]
  },
  {
   "cell_type": "code",
   "execution_count": 51,
   "metadata": {},
   "outputs": [],
   "source": [
    "x_12 = [1,2,3,4,5,6]\n",
    "\n",
    "x_14 = torch.tensor(x_12)  #from python list to torch tensor\n"
   ]
  },
  {
   "cell_type": "markdown",
   "metadata": {},
   "source": [
    "### For making the Grad true"
   ]
  },
  {
   "cell_type": "code",
   "execution_count": 52,
   "metadata": {},
   "outputs": [],
   "source": [
    "x_15 = torch.ones(3,3, requires_grad= True)"
   ]
  },
  {
   "cell_type": "markdown",
   "metadata": {},
   "source": [
    "## Pytorch autograd \n"
   ]
  },
  {
   "cell_type": "code",
   "execution_count": 54,
   "metadata": {},
   "outputs": [],
   "source": [
    "x_16 = torch.rand(3 , requires_grad= True)"
   ]
  },
  {
   "cell_type": "markdown",
   "metadata": {},
   "source": [
    "## Process \n",
    "- Forward pass to compute the loss\n",
    "- compute the local gradient \n",
    "- Backward pass to compute the derivate using the chain rule"
   ]
  },
  {
   "cell_type": "markdown",
   "metadata": {},
   "source": [
    "### Torch linear regression "
   ]
  },
  {
   "cell_type": "code",
   "execution_count": 58,
   "metadata": {},
   "outputs": [],
   "source": [
    "import torch.nn as nn  #neural network module \n",
    "\n",
    "import numpy as np \n",
    "\n",
    "#import the data sets \n",
    "from sklearn import datasets\n",
    "import matplotlib.pyplot as ply\n"
   ]
  },
  {
   "cell_type": "markdown",
   "metadata": {},
   "source": [
    "### make the data "
   ]
  },
  {
   "cell_type": "code",
   "execution_count": 69,
   "metadata": {},
   "outputs": [],
   "source": [
    "#prepare the data \n",
    "x_numpy , y_numpy = datasets.make_regression(n_samples= 100 , n_features=1 , noise = 20, random_state= 1)\n",
    "\n",
    "#conversion of the data type \n",
    "\n",
    "X = torch.from_numpy(x_numpy.astype(np.float32))\n",
    "Y = torch.from_numpy(y_numpy.astype(np.float32))\n",
    "\n",
    "Y = Y.view(Y.shape[0],1)\n"
   ]
  },
  {
   "cell_type": "code",
   "execution_count": 71,
   "metadata": {},
   "outputs": [],
   "source": [
    "#make the features \n",
    "\n",
    "n_samples , n_features = X.shape\n",
    "\n",
    "input_size = n_features\n",
    "output_size = 1\n"
   ]
  },
  {
   "cell_type": "markdown",
   "metadata": {},
   "source": [
    "### Make the model"
   ]
  },
  {
   "cell_type": "code",
   "execution_count": 72,
   "metadata": {},
   "outputs": [],
   "source": [
    "#model \n",
    "\n",
    "model = nn.Linear(input_size,output_size)"
   ]
  },
  {
   "cell_type": "markdown",
   "metadata": {},
   "source": [
    "### Loss and the optimizer "
   ]
  },
  {
   "cell_type": "code",
   "execution_count": 77,
   "metadata": {},
   "outputs": [],
   "source": [
    "criterion = nn.MSELoss() #the loss function \n",
    "learning_rate = 0.01\n",
    "optmizer = torch.optim.SGD(model.parameters(), lr = learning_rate)  #linear regression model"
   ]
  },
  {
   "cell_type": "markdown",
   "metadata": {},
   "source": [
    "### Training Epochs\n",
    "- forward pass , compiute prediction and loss\n",
    "- backward pass , gradients calculation\n",
    "- update weights\n",
    "\n",
    "\n",
    "##### After the backward optmizer step we should zero the gradient "
   ]
  },
  {
   "cell_type": "code",
   "execution_count": 82,
   "metadata": {},
   "outputs": [
    {
     "name": "stdout",
     "output_type": "stream",
     "text": [
      "loss 397.1680908203125\n",
      "loss 379.7626647949219\n",
      "loss 367.0566101074219\n",
      "loss 357.7777099609375\n",
      "loss 350.9995422363281\n",
      "loss 346.0467529296875\n",
      "loss 342.4266357421875\n",
      "loss 339.78009033203125\n",
      "loss 337.8448486328125\n",
      "loss 336.42938232421875\n"
     ]
    }
   ],
   "source": [
    "#training loops \n",
    "n_epochs = 100\n",
    "#making the traiing loop \n",
    "\n",
    "for iter in range(n_epochs):\n",
    "\n",
    "    #forward pass and loss\n",
    "\n",
    "    y_pred = model(X)\n",
    "\n",
    "    loss = criterion(y_pred , Y) #loss calculation\n",
    "\n",
    "    #backward pass\n",
    "\n",
    "    loss.backward()\n",
    "\n",
    "    #update \n",
    "\n",
    "    optmizer.step()\n",
    "\n",
    "    optmizer.zero_grad() #make the gradient zero\n",
    "\n",
    "    #printing the loss \n",
    "\n",
    "    if (iter+1) % 10 == 0:\n",
    "\n",
    "        print(\"loss\" , loss.item())"
   ]
  },
  {
   "cell_type": "markdown",
   "metadata": {},
   "source": [
    "### Implementing the logistic regression "
   ]
  },
  {
   "cell_type": "code",
   "execution_count": 111,
   "metadata": {},
   "outputs": [],
   "source": [
    "#importing the new datasets\n",
    "from sklearn import datasets\n",
    "from sklearn.preprocessing import StandardScaler\n",
    "from sklearn.model_selection import train_test_split\n"
   ]
  },
  {
   "cell_type": "code",
   "execution_count": 112,
   "metadata": {},
   "outputs": [],
   "source": [
    "#prepare the dataset \n",
    "\n",
    "bc = datasets.load_breast_cancer()\n",
    "\n",
    "x, y = bc.data, bc.target  #we get the \n",
    "\n",
    "n_samples, n_features = x.shape "
   ]
  },
  {
   "cell_type": "code",
   "execution_count": 113,
   "metadata": {},
   "outputs": [],
   "source": [
    "#train test split \n",
    "\n",
    "x_train, x_test , y_train , y_test = train_test_split(x,y , test_size = 0.2 , random_state = 1234)\n",
    "\n",
    "#scale the features \n",
    "\n",
    "sc  = StandardScaler()\n",
    "\n",
    "x_train = sc.fit_transform(x_train)\n",
    "x_test = sc.fit_transform(x_test)\n",
    "\n",
    "\n",
    "\n",
    "x_train = torch.from_numpy(x_train.astype(np.float32))\n",
    "\n",
    "x_test = torch.from_numpy(x_test.astype(np.float32))\n",
    "\n",
    "y_train = torch.from_numpy(y_train.astype(np.float32))\n",
    "\n",
    "y_test = torch.from_numpy(y_test.astype(np.float32))\n"
   ]
  },
  {
   "cell_type": "markdown",
   "metadata": {},
   "source": [
    "### Make the model "
   ]
  },
  {
   "cell_type": "code",
   "execution_count": 114,
   "metadata": {},
   "outputs": [],
   "source": [
    "# 1 make the model\n",
    "\n",
    "class Logistic_regression(nn.Module):\n",
    "\n",
    "    def __init__(self,n_features):\n",
    "        super(Logistic_regression,self).__init__()\n",
    "\n",
    "        #making the layer\n",
    "\n",
    "        self.linear = nn.Linear(n_features, 1)\n",
    "\n",
    "    #making the forward function \n",
    "\n",
    "    def forward(self,x):\n",
    "        y_pred = torch.sigmoid(self.linear(x))\n",
    "\n",
    "        return y_pred"
   ]
  },
  {
   "cell_type": "code",
   "execution_count": 115,
   "metadata": {},
   "outputs": [],
   "source": [
    "#initialize the model\n",
    "\n",
    "model = Logistic_regression(n_features)"
   ]
  },
  {
   "cell_type": "code",
   "execution_count": 116,
   "metadata": {},
   "outputs": [],
   "source": [
    "#making the loss function \n",
    "\n",
    "# step 2  loss and optmizer \n",
    "\n",
    "criterion = nn.BCELoss()\n",
    "\n",
    "optmizer = torch.optim.SGD(model.parameters() , lr = 0.01)"
   ]
  },
  {
   "cell_type": "code",
   "execution_count": 117,
   "metadata": {},
   "outputs": [
    {
     "name": "stderr",
     "output_type": "stream",
     "text": [
      "/home/abhi/anaconda3/lib/python3.8/site-packages/torch/nn/modules/loss.py:498: UserWarning: Using a target size (torch.Size([455])) that is different to the input size (torch.Size([455, 1])) is deprecated. Please ensure they have the same size.\n",
      "  return F.binary_cross_entropy(input, target, weight=self.weight, reduction=self.reduction)\n"
     ]
    },
    {
     "name": "stdout",
     "output_type": "stream",
     "text": [
      "0.744284451007843\n",
      "0.5653871893882751\n",
      "0.4635038375854492\n",
      "0.3991164267063141\n",
      "0.3548092544078827\n",
      "0.32235053181648254\n",
      "0.2974352538585663\n",
      "0.2776147127151489\n",
      "0.2613987326622009\n",
      "0.24783164262771606\n"
     ]
    }
   ],
   "source": [
    "# 3 step to do the training loop \n",
    "num_epochs = 100 \n",
    "\n",
    "for epoch in range(num_epochs):\n",
    "\n",
    "    #for ward pass and loss calculation \n",
    "\n",
    "    y_pred = model(x_train)\n",
    "\n",
    "    loss = criterion(y_pred, y_train)\n",
    "\n",
    "\n",
    "    #backward pass and optimizer \n",
    "\n",
    "    loss.backward()\n",
    "\n",
    "\n",
    "    #updates \n",
    "\n",
    "    optmizer.step()\n",
    "\n",
    "    #empty the gradient\n",
    "\n",
    "    optmizer.zero_grad()\n",
    "\n",
    "    if (epoch + 1) % 10 == 0:\n",
    "\n",
    "        print(loss.item())\n",
    "\n",
    "        \n",
    "\n"
   ]
  },
  {
   "cell_type": "code",
   "execution_count": null,
   "metadata": {},
   "outputs": [],
   "source": []
  }
 ],
 "metadata": {
  "interpreter": {
   "hash": "a9277649a74e8faa8be12cbeb58385da5eb2caa0505776957b10bd3c68ac62ba"
  },
  "kernelspec": {
   "display_name": "Python 3.8.5 64-bit ('base': conda)",
   "language": "python",
   "name": "python3"
  },
  "language_info": {
   "codemirror_mode": {
    "name": "ipython",
    "version": 3
   },
   "file_extension": ".py",
   "mimetype": "text/x-python",
   "name": "python",
   "nbconvert_exporter": "python",
   "pygments_lexer": "ipython3",
   "version": "3.8.5"
  },
  "orig_nbformat": 4
 },
 "nbformat": 4,
 "nbformat_minor": 2
}
