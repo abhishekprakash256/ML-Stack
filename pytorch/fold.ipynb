{
  "nbformat": 4,
  "nbformat_minor": 0,
  "metadata": {
    "colab": {
      "name": "Untitled73.ipynb",
      "provenance": [],
      "collapsed_sections": []
    },
    "kernelspec": {
      "name": "python3",
      "display_name": "Python 3"
    },
    "language_info": {
      "name": "python"
    }
  },
  "cells": [
    {
      "cell_type": "code",
      "metadata": {
        "id": "NOa0tUdfKEzb"
      },
      "source": [
        "#1024 X 1024\n",
        "import torch\n",
        "import torch.nn.functional as F\n",
        "import matplotlib.pyplot as plt\n",
        "\n",
        "x = torch.randint(0, 100 , (1024, 1024))\n",
        "kh, kw = 256, 256 # kernel size\n",
        "#dh, dw = 128, 128 # stride\n",
        "dh, dw = 256, 256 # stride\n"
      ],
      "execution_count": 1,
      "outputs": []
    },
    {
      "cell_type": "code",
      "metadata": {
        "colab": {
          "base_uri": "https://localhost:8080/"
        },
        "id": "XL8Qd5arKacJ",
        "outputId": "e71d8960-7d08-4d08-cbcc-bd27ba3e2dda"
      },
      "source": [
        "patches = x.unfold(0, kh, dh).unfold(1, kw, dw)\n",
        "unfold_shape = patches.size()\n",
        "\n",
        "print(patches.shape)"
      ],
      "execution_count": 2,
      "outputs": [
        {
          "output_type": "stream",
          "text": [
            "torch.Size([4, 4, 256, 256])\n"
          ],
          "name": "stdout"
        }
      ]
    },
    {
      "cell_type": "code",
      "metadata": {
        "colab": {
          "base_uri": "https://localhost:8080/"
        },
        "id": "T_Ft3sMnKi7T",
        "outputId": "71b7941c-9be5-4f70-fe45-2fae5acc634b"
      },
      "source": [
        "patches = patches.contiguous().view(-1, kh, kw)\n",
        "\n",
        "print(patches.shape)"
      ],
      "execution_count": 3,
      "outputs": [
        {
          "output_type": "stream",
          "text": [
            "torch.Size([16, 256, 256])\n"
          ],
          "name": "stdout"
        }
      ]
    },
    {
      "cell_type": "code",
      "metadata": {
        "colab": {
          "base_uri": "https://localhost:8080/"
        },
        "id": "7J2t2_wlKqwc",
        "outputId": "b83e5890-0ba9-48de-eb64-cef0ada3281c"
      },
      "source": [
        "patches_orig = patches.view(unfold_shape)\n",
        "print(patches_orig.shape)"
      ],
      "execution_count": 5,
      "outputs": [
        {
          "output_type": "stream",
          "text": [
            "torch.Size([4, 4, 256, 256])\n"
          ],
          "name": "stdout"
        }
      ]
    },
    {
      "cell_type": "code",
      "metadata": {
        "colab": {
          "base_uri": "https://localhost:8080/"
        },
        "id": "25FkI7ppKx7Q",
        "outputId": "c5ff0bc9-dfe6-423a-f8a5-91366a8bbcec"
      },
      "source": [
        "output_h = unfold_shape[0] * unfold_shape[2] #shape \n",
        "output_w = unfold_shape[1] * unfold_shape[3]  #shape\n",
        "print(output_h,output_w)"
      ],
      "execution_count": 6,
      "outputs": [
        {
          "output_type": "stream",
          "text": [
            "1024 1024\n"
          ],
          "name": "stdout"
        }
      ]
    },
    {
      "cell_type": "code",
      "metadata": {
        "colab": {
          "base_uri": "https://localhost:8080/"
        },
        "id": "pBQMDaXdK0U3",
        "outputId": "293c2195-6658-4d3a-b15a-38ac6df759c7"
      },
      "source": [
        "patches_orig = patches_orig.permute(0, 2, 1, 3).contiguous()\n",
        "\n",
        "print(patches_orig.shape)\n",
        "\n",
        "patches_orig = patches_orig.view(output_h, output_w)\n",
        "print(patches_orig.shape)\n",
        "print((patches_orig == x).all())"
      ],
      "execution_count": 7,
      "outputs": [
        {
          "output_type": "stream",
          "text": [
            "torch.Size([4, 256, 4, 256])\n",
            "torch.Size([1024, 1024])\n",
            "tensor(True)\n"
          ],
          "name": "stdout"
        }
      ]
    }
  ]
}